{
 "cells": [
  {
   "cell_type": "code",
   "execution_count": null,
   "metadata": {},
   "outputs": [],
   "source": [
    "library(ggplot2)"
   ]
  },
  {
   "cell_type": "code",
   "execution_count": null,
   "metadata": {},
   "outputs": [],
   "source": [
    "polls <- read.csv(\"dataset.dat\", sep = ',', header = TRUE)\n",
    "names(polls)[names(polls)==\n",
    "             \"The.US.should.allow.all.voters.to.vote.by.mail.in.elections.this.year.to.minimize.the.spread.of.the.coronavirus\"]<- \"support\"\n",
    "names(polls)[names(polls)==\n",
    "             \"The.US.should.not.allow.all.voters.to.vote.by.mail.in.elections.this.year.because.it.jeopardizes.election.security\"] <- \"oppose\"\n",
    "names(polls)[names(polls)==\n",
    "             \"Don.t.Know.or.No.Opinion\"] <- \"none\""
   ]
  },
  {
   "cell_type": "code",
   "execution_count": null,
   "metadata": {},
   "outputs": [],
   "source": [
    "polls"
   ]
  },
  {
   "cell_type": "code",
   "execution_count": null,
   "metadata": {},
   "outputs": [],
   "source": [
    "ggplot(polls, aes(x=Demographic, y=support)) + geom_bar(stat=\"identity\")"
   ]
  },
  {
   "cell_type": "code",
   "execution_count": null,
   "metadata": {},
   "outputs": [],
   "source": []
  }
 ],
 "metadata": {
  "kernelspec": {
   "display_name": "R",
   "language": "R",
   "name": "ir"
  },
  "language_info": {
   "codemirror_mode": "r",
   "file_extension": ".r",
   "mimetype": "text/x-r-source",
   "name": "R",
   "pygments_lexer": "r",
   "version": "3.3.3"
  }
 },
 "nbformat": 4,
 "nbformat_minor": 2
}
