{
 "cells": [
  {
   "cell_type": "code",
   "execution_count": null,
   "metadata": {},
   "outputs": [],
   "source": [
    "library(ggplot2)\n",
    "library(tidyr)"
   ]
  },
  {
   "cell_type": "code",
   "execution_count": null,
   "metadata": {},
   "outputs": [],
   "source": [
    "polls <- read.csv(\"dataset.dat\", sep = ',', header = TRUE)\n",
    "names(polls)[names(polls)==\n",
    "             \"The.US.should.allow.all.voters.to.vote.by.mail.in.elections.this.year.to.minimize.the.spread.of.the.coronavirus\"]<- \"support\"\n",
    "names(polls)[names(polls)==\n",
    "             \"The.US.should.not.allow.all.voters.to.vote.by.mail.in.elections.this.year.because.it.jeopardizes.election.security\"] <- \"oppose\"\n",
    "names(polls)[names(polls)==\n",
    "             \"Don.t.Know.or.No.Opinion\"] <- \"none\"\n",
    "polls"
   ]
  },
  {
   "cell_type": "code",
   "execution_count": null,
   "metadata": {},
   "outputs": [],
   "source": [
    "gathered_polls <- polls %>% gather(Position, Percentage, support:none)\n",
    "gathered_polls"
   ]
  },
  {
   "cell_type": "code",
   "execution_count": null,
   "metadata": {},
   "outputs": [],
   "source": [
    "gathered_polls$Demographic <- factor(gathered_polls$Demographic,levels = rev(c(\"Registered voters\", \"Dem no Lean\", \"Ind no Lean\", \"Rep no Lean\")))\n",
    "gathered_polls"
   ]
  },
  {
   "cell_type": "code",
   "execution_count": null,
   "metadata": {},
   "outputs": [],
   "source": [
    "ggplot(gathered_polls, aes(x=Demographic, y=Percentage, fill=Position)) +\n",
    "    geom_bar(stat=\"identity\", position=position_dodge()) +\n",
    "    scale_fill_brewer(palette=\"RdBu\") +\n",
    "    theme(legend.position = \"bottom\") +\n",
    "    coord_flip() + \n",
    "    ggtitle(\"US Public Opinion on Allowing All Voters to Vote By Mail\")"
   ]
  },
  {
   "cell_type": "code",
   "execution_count": null,
   "metadata": {},
   "outputs": [],
   "source": []
  }
 ],
 "metadata": {
  "kernelspec": {
   "display_name": "R",
   "language": "R",
   "name": "ir"
  },
  "language_info": {
   "codemirror_mode": "r",
   "file_extension": ".r",
   "mimetype": "text/x-r-source",
   "name": "R",
   "pygments_lexer": "r",
   "version": "3.3.3"
  }
 },
 "nbformat": 4,
 "nbformat_minor": 2
}
