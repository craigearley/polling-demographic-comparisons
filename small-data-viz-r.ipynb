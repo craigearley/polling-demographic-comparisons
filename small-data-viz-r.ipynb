{
 "cells": [
  {
   "cell_type": "code",
   "execution_count": 3,
   "metadata": {},
   "outputs": [],
   "source": [
    "library(ggplot2)"
   ]
  },
  {
   "cell_type": "code",
   "execution_count": 51,
   "metadata": {},
   "outputs": [],
   "source": [
    "polls <- read.csv(\"dataset.dat\", sep = ',', header = TRUE)\n",
    "names(polls)[names(polls)==\n",
    "             \"The.US.should.allow.all.voters.to.vote.by.mail.in.elections.this.year.to.minimize.the.spread.of.the.coronavirus\"]<- \"support\"\n",
    "names(polls)[names(polls)==\n",
    "             \"The.US.should.not.allow.all.voters.to.vote.by.mail.in.elections.this.year.because.it.jeopardizes.election.security\"] <- \"oppose\""
   ]
  },
  {
   "cell_type": "code",
   "execution_count": 52,
   "metadata": {},
   "outputs": [
    {
     "data": {
      "text/html": [
       "<table>\n",
       "<caption>A data.frame: 4 × 4</caption>\n",
       "<thead>\n",
       "\t<tr><th scope=col>Demographic</th><th scope=col>support</th><th scope=col>oppose</th><th scope=col>Don.t.Know.or.No.Opinion</th></tr>\n",
       "\t<tr><th scope=col>&lt;fct&gt;</th><th scope=col>&lt;int&gt;</th><th scope=col>&lt;int&gt;</th><th scope=col>&lt;int&gt;</th></tr>\n",
       "</thead>\n",
       "<tbody>\n",
       "\t<tr><td>Registered voters</td><td>58</td><td>31</td><td>11</td></tr>\n",
       "\t<tr><td>Dem no Lean      </td><td>81</td><td>10</td><td> 8</td></tr>\n",
       "\t<tr><td>Ind no Lean      </td><td>57</td><td>27</td><td>17</td></tr>\n",
       "\t<tr><td>Rep no Lean      </td><td>33</td><td>57</td><td>11</td></tr>\n",
       "</tbody>\n",
       "</table>\n"
      ],
      "text/latex": [
       "A data.frame: 4 × 4\n",
       "\\begin{tabular}{llll}\n",
       " Demographic & support & oppose & Don.t.Know.or.No.Opinion\\\\\n",
       " <fct> & <int> & <int> & <int>\\\\\n",
       "\\hline\n",
       "\t Registered voters & 58 & 31 & 11\\\\\n",
       "\t Dem no Lean       & 81 & 10 &  8\\\\\n",
       "\t Ind no Lean       & 57 & 27 & 17\\\\\n",
       "\t Rep no Lean       & 33 & 57 & 11\\\\\n",
       "\\end{tabular}\n"
      ],
      "text/markdown": [
       "\n",
       "A data.frame: 4 × 4\n",
       "\n",
       "| Demographic &lt;fct&gt; | support &lt;int&gt; | oppose &lt;int&gt; | Don.t.Know.or.No.Opinion &lt;int&gt; |\n",
       "|---|---|---|---|\n",
       "| Registered voters | 58 | 31 | 11 |\n",
       "| Dem no Lean       | 81 | 10 |  8 |\n",
       "| Ind no Lean       | 57 | 27 | 17 |\n",
       "| Rep no Lean       | 33 | 57 | 11 |\n",
       "\n"
      ],
      "text/plain": [
       "  Demographic       support oppose Don.t.Know.or.No.Opinion\n",
       "1 Registered voters 58      31     11                      \n",
       "2 Dem no Lean       81      10      8                      \n",
       "3 Ind no Lean       57      27     17                      \n",
       "4 Rep no Lean       33      57     11                      "
      ]
     },
     "metadata": {},
     "output_type": "display_data"
    }
   ],
   "source": [
    "polls"
   ]
  },
  {
   "cell_type": "code",
   "execution_count": 54,
   "metadata": {},
   "outputs": [
    {
     "data": {
      "image/png": "[encoded data removed]",
      "text/plain": [
       "plot without title"
      ]
     },
     "metadata": {
      "image/png": {
       "height": 420,
       "width": 420
      }
     },
     "output_type": "display_data"
    }
   ],
   "source": [
    "ggplot(polls, aes(x=Demographic, y=support), ylim=c(0,100)) + geom_bar(stat=\"identity\")"
   ]
  },
  {
   "cell_type": "code",
   "execution_count": null,
   "metadata": {},
   "outputs": [],
   "source": []
  }
 ],
 "metadata": {
  "kernelspec": {
   "display_name": "R",
   "language": "R",
   "name": "ir"
  },
  "language_info": {
   "codemirror_mode": "r",
   "file_extension": ".r",
   "mimetype": "text/x-r-source",
   "name": "R",
   "pygments_lexer": "r",
   "version": "3.3.3"
  }
 },
 "nbformat": 4,
 "nbformat_minor": 2
}
