{
 "cells": [
  {
   "cell_type": "code",
   "execution_count": 1,
   "metadata": {},
   "outputs": [],
   "source": [
    "import pandas as pd\n",
    "import matplotlib.pyplot as plt\n",
    "import seaborn as sns\n",
    "import numpy as np\n",
    "import json"
   ]
  },
  {
   "cell_type": "code",
   "execution_count": 2,
   "metadata": {},
   "outputs": [],
   "source": [
    "# Configuration options\n",
    "\n",
    "caption = False"
   ]
  },
  {
   "cell_type": "code",
   "execution_count": 3,
   "metadata": {},
   "outputs": [],
   "source": [
    "# Data about the structure of the data file\n",
    "\n",
    "rawdata = pd.read_csv('dataset.dat')\n",
    "\n",
    "f = open(\"metadata.json\")\n",
    "metadata = json.load(f)\n",
    "\n",
    "x_str       = str(metadata['demographic_label'])\n",
    "y0_str      = str(metadata['support'])\n",
    "y1_str      = str(metadata['oppose'])\n",
    "y2_str      = str(metadata['none'])\n",
    "source_name = str(metadata['name'])\n",
    "link        = str(metadata['link'])\n",
    "title_text  = str(metadata['plot_title'])\n",
    "\n",
    "caption_txt = '''\n",
    "    Source: ''' + link + '''\n",
    "        \n",
    "    Exact Wording:\n",
    "        ''' + y0_str + '\\n' + '''\n",
    "        ''' + y1_str + '\\n' + '''\n",
    "        ''' + y2_str + \"\\n\""
   ]
  },
  {
   "cell_type": "code",
   "execution_count": 4,
   "metadata": {},
   "outputs": [],
   "source": [
    "# Give us a more usable interface than the exact question wording\n",
    "\n",
    "data = rawdata.rename(columns={x_str:'group', y0_str:'support', y1_str:'oppose', y2_str:'none'})"
   ]
  },
  {
   "cell_type": "code",
   "execution_count": 5,
   "metadata": {},
   "outputs": [],
   "source": [
    "sns.set()"
   ]
  },
  {
   "cell_type": "code",
   "execution_count": 16,
   "metadata": {},
   "outputs": [
    {
     "data": {
      "image/png": "[encoded data removed]",
      "text/plain": [
       "<Figure size 432x288 with 1 Axes>"
      ]
     },
     "metadata": {},
     "output_type": "display_data"
    }
   ],
   "source": [
    "sns.set_style(\"darkgrid\")\n",
    "\n",
    "N = 4\n",
    "\n",
    "ind = np.arange(N)  # the x locations for the groups\n",
    "width = 0.3       # the width of the bars\n",
    "\n",
    "fig, ax = plt.subplots()\n",
    "\n",
    "support_pct = data['support']\n",
    "for i, v in enumerate(support_pct):\n",
    "    ax.text(0, i + .07, str(v), color=\"white\")\n",
    "support_bars = ax.barh(ind, support_pct, width, color='#4682B4') # steelblue in R\n",
    "\n",
    "oppose_pct = data['oppose']\n",
    "for i, v in enumerate(oppose_pct):\n",
    "    ax.text(0, i + .07 + width, str(v), color=\"white\")\n",
    "oppose_bars = ax.barh(ind + width, oppose_pct, width, color='#CD0000') # red3 in R\n",
    "\n",
    "none_pct = data['none']\n",
    "for i, v in enumerate(none_pct):\n",
    "    ax.text(0, i + .07 + width*2, str(v), color=\"white\")\n",
    "none_bars = ax.barh(ind+width*2, none_pct, width, color='#808080') # gray in R\n",
    "\n",
    "ax.set_xlabel('Percent')\n",
    "ax.set_title(title_text)\n",
    "ax.set_ylabel('Group')\n",
    "ax.set_yticks(ind + width / 2)\n",
    "ax.set_yticklabels(data['group'])\n",
    "\n",
    "ax.legend((support_bars[0], oppose_bars[0], none_bars[0]),\n",
    "          ('Support', 'Oppose', 'No Opinion Given'),\n",
    "         loc='best', bbox_to_anchor=(1, 0, 0.5, 1)\n",
    "         )\n",
    "\n",
    "if (caption):\n",
    "    fig.text(-0.2, -0.5, caption_txt)\n",
    "\n",
    "ax.invert_yaxis()\n",
    "\n",
    "plt.show()\n",
    "fig.savefig(\"figure.jpg\", dpi=600, bbox_inches=\"tight\")"
   ]
  },
  {
   "cell_type": "code",
   "execution_count": 7,
   "metadata": {},
   "outputs": [
    {
     "name": "stdout",
     "output_type": "stream",
     "text": [
      "https://www.politico.com/f/?id=00000173-ba40-db2c-ad77-fa57c8a30000\n"
     ]
    }
   ],
   "source": [
    "print(link)"
   ]
  },
  {
   "cell_type": "code",
   "execution_count": 8,
   "metadata": {},
   "outputs": [
    {
     "name": "stdout",
     "output_type": "stream",
     "text": [
      "\n",
      "Source: https://www.politico.com/f/?id=00000173-ba40-db2c-ad77-fa57c8a30000\n",
      "\n",
      "Exact Wording:\n",
      "The US should allow all voters to vote by mail in elections this year to minimize the spread of the coronavirus\n",
      "\n",
      "The US should not allow all voters to vote by mail in elections this year because it jeopardizes election security\n",
      "\n",
      "Don't Know or No Opinion\n",
      "\n"
     ]
    }
   ],
   "source": [
    "if not (caption):\n",
    "    print(caption_txt.replace('  ', '').replace('\\t',''))"
   ]
  },
  {
   "cell_type": "code",
   "execution_count": null,
   "metadata": {},
   "outputs": [],
   "source": []
  },
  {
   "cell_type": "code",
   "execution_count": null,
   "metadata": {},
   "outputs": [],
   "source": []
  }
 ],
 "metadata": {
  "kernelspec": {
   "display_name": "Python 3",
   "language": "python",
   "name": "python3"
  },
  "language_info": {
   "codemirror_mode": {
    "name": "ipython",
    "version": 3
   },
   "file_extension": ".py",
   "mimetype": "text/x-python",
   "name": "python",
   "nbconvert_exporter": "python",
   "pygments_lexer": "ipython3",
   "version": "3.7.4"
  }
 },
 "nbformat": 4,
 "nbformat_minor": 2
}
