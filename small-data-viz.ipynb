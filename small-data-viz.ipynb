{
 "cells": [
  {
   "cell_type": "code",
   "execution_count": null,
   "metadata": {},
   "outputs": [],
   "source": [
    "import pandas as pd\n",
    "import matplotlib.pyplot as plt\n",
    "import seaborn as sns\n",
    "import numpy as np"
   ]
  },
  {
   "cell_type": "code",
   "execution_count": null,
   "metadata": {},
   "outputs": [],
   "source": [
    "rawdata = pd.read_csv('dataset.dat')\n",
    "title_text = \"US Public Opinion of Vote By Mail\"\n",
    "\n",
    "x_str='Demographic'\n",
    "y0_str = 'The US should allow all voters to vote by mail in elections this year to minimize the spread of the coronavirus'\n",
    "y1_str = 'The US should not allow all voters to vote by mail in elections this year because it jeopardizes election security'\n",
    "y2_str = 'Don\\'t Know or No Opinion'\n",
    "\n",
    "caption_txt = '''\n",
    "    Source: Politico Survey of 1991 Registered Voters, July/Aug 2020\n",
    "    \n",
    "    Link: https://www.politico.com/f/?id=00000173-ba40-db2c-ad77-fa57c8a30000\n",
    "    \n",
    "    Exact Wording:\n",
    "        ''' + y0_str + '\\n' + '''\n",
    "        ''' + y1_str + '\\n' + '''\n",
    "        ''' + y2_str + '\\n'"
   ]
  },
  {
   "cell_type": "code",
   "execution_count": null,
   "metadata": {},
   "outputs": [],
   "source": [
    "# Give us a more usable interface than the exact question wording\n",
    "\n",
    "data = rawdata.rename(columns={x_str:'group', y0_str:'support', y1_str:'oppose', y2_str:'none'})\n",
    "data"
   ]
  },
  {
   "cell_type": "code",
   "execution_count": null,
   "metadata": {},
   "outputs": [],
   "source": [
    "sns.set()"
   ]
  },
  {
   "cell_type": "code",
   "execution_count": null,
   "metadata": {},
   "outputs": [],
   "source": [
    "N = 4\n",
    "\n",
    "ind = np.arange(N)  # the x locations for the groups\n",
    "width = 0.3       # the width of the bars\n",
    "\n",
    "fig, ax = plt.subplots()\n",
    "\n",
    "support_pct = data['support']\n",
    "support_bars = ax.barh(ind, support_pct, width, color='b')\n",
    "\n",
    "oppose_pct = data['oppose']\n",
    "oppose_bars = ax.barh(ind + width, oppose_pct, width, color='r')\n",
    "\n",
    "none_pct = data['none']\n",
    "none_bars = ax.barh(ind+width*2, none_pct, width, color='y')\n",
    "\n",
    "ax.set_xlabel('Percent')\n",
    "ax.set_title(title_text)\n",
    "ax.set_ylabel('Group')\n",
    "ax.set_yticks(ind + width / 2)\n",
    "ax.set_yticklabels(data['group'])\n",
    "\n",
    "ax.legend((support_bars[0], oppose_bars[0], none_bars[0]),\n",
    "          ('Support', 'Oppose', 'No Opinion Given'),\n",
    "         loc='best', bbox_to_anchor=(1, 0, 0.5, 1)\n",
    ")\n",
    "fig.text(0.1, -0.6, caption_txt)\n",
    "\n",
    "ax.invert_yaxis()\n",
    "\n",
    "plt.show()\n",
    "fig.savefig(\"figure.jpg\", dpi=600, bbox_inches=\"tight\")"
   ]
  },
  {
   "cell_type": "code",
   "execution_count": null,
   "metadata": {},
   "outputs": [],
   "source": []
  }
 ],
 "metadata": {
  "kernelspec": {
   "display_name": "Python 3",
   "language": "python",
   "name": "python3"
  },
  "language_info": {
   "codemirror_mode": {
    "name": "ipython",
    "version": 3
   },
   "file_extension": ".py",
   "mimetype": "text/x-python",
   "name": "python",
   "nbconvert_exporter": "python",
   "pygments_lexer": "ipython3",
   "version": "3.7.4"
  }
 },
 "nbformat": 4,
 "nbformat_minor": 2
}
