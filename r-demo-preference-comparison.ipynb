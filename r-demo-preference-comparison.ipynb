{
 "cells": [
  {
   "cell_type": "code",
   "execution_count": null,
   "metadata": {},
   "outputs": [],
   "source": [
    "library(ggplot2)\n",
    "library(tidyr)\n",
    "library(rjson)"
   ]
  },
  {
   "cell_type": "code",
   "execution_count": null,
   "metadata": {},
   "outputs": [],
   "source": [
    "json_data <- fromJSON(file=\"metadata.json\")\n",
    "\n",
    "demo_label = json_data[['demographic_label']]\n",
    "title_text  <- json_data[['plot_title']]\n",
    "source_text <- json_data[['name']]\n",
    "link_text   <- json_data[['link']]"
   ]
  },
  {
   "cell_type": "code",
   "execution_count": null,
   "metadata": {},
   "outputs": [],
   "source": [
    "polls <- read.csv(\"dataset.dat\", sep = ',', header = TRUE)\n",
    "gathered_polls <- polls %>% gather(Position, Percentage, Support:None)\n",
    "gathered_polls$Demographic <- factor(gathered_polls$Group,levels = \n",
    "            rev(c(\"Registered voters\", \"Dem no Lean\", \"Ind no Lean\", \"Rep no Lean\")))"
   ]
  },
  {
   "cell_type": "code",
   "execution_count": null,
   "metadata": {},
   "outputs": [],
   "source": [
    "ggplot(gathered_polls, aes(x=Demographic, y=Percentage, fill=Position)) +\n",
    "    geom_bar(stat=\"identity\", position=position_dodge()) +\n",
    "    scale_fill_manual(values =  c(\"Support\"=\"steelblue\",\"Oppose\"=\"red3\",\"None\"=\"gray\")) +\n",
    "    theme(legend.position = \"top\") +\n",
    "    geom_text(aes(label = Percentage, y = Percentage + 0.05), position = position_dodge(0.9), hjust = 2, color=\"white\", size=6) +\n",
    "    coord_flip() + \n",
    "    guides(fill = guide_legend(reverse = TRUE)) + \n",
    "    labs(title = title_text,\n",
    "              caption = paste(\"Source: \" , source_text))\n",
    "    ggsave(\"r-output.png\")"
   ]
  },
  {
   "cell_type": "code",
   "execution_count": null,
   "metadata": {},
   "outputs": [],
   "source": [
    "caption_text = paste(\"Source: \\n    \",\n",
    "                     source_text,  \"\\n    \",\n",
    "                     link_text, \"\\n    \",\n",
    "                    \"Exact wording: \\n    \",\n",
    "                    json_data[['support']], \"\\n    \", \n",
    "                    json_data[['oppose']],  \"\\n    \",\n",
    "                    json_data[['none']],  \"\\n\")\n",
    "writeLines(caption_text)"
   ]
  },
  {
   "cell_type": "code",
   "execution_count": null,
   "metadata": {},
   "outputs": [],
   "source": []
  }
 ],
 "metadata": {
  "kernelspec": {
   "display_name": "R",
   "language": "R",
   "name": "ir"
  },
  "language_info": {
   "codemirror_mode": "r",
   "file_extension": ".r",
   "mimetype": "text/x-r-source",
   "name": "R",
   "pygments_lexer": "r",
   "version": "3.3.3"
  }
 },
 "nbformat": 4,
 "nbformat_minor": 2
}
